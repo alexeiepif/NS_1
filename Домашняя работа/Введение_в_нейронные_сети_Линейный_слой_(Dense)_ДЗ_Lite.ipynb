{
 "cells": [
  {
   "cell_type": "markdown",
   "metadata": {
    "id": "d_qXycKuUA51"
   },
   "source": [
    "### Задание"
   ]
  },
  {
   "cell_type": "markdown",
   "metadata": {
    "id": "aUMmCXubUHEb"
   },
   "source": [
    "Создайте систему компьютерного зрения, которая будет определять тип геометрической фигуры. Используя подготовленную базу и шаблон ноутбука проведите серию экспериментов по перебору гиперпараметров нейронной сети, распознающей три категории изображений (треугольник, круг, квадрат).\n",
    "\n",
    "1. Поменяйте количество нейронов в сети, используя следующие значения:\n",
    "\n",
    "- один слой 10 нейронов\n",
    "- один слой 100 нейронов\n",
    "- один слой 5000 нейронов.\n",
    "\n",
    "2. Поменяйте активационную функцию в скрытых слоях с `relu` на `linear`.\n",
    "3. Поменяйте размеры batch_size:\n",
    "- 10\n",
    "- 100\n",
    "- 1000\n",
    "\n",
    "4. Выведите на экран получившиеся точности.\n",
    "\n",
    "Всего должно получиться 18 комбинаций указанных параметров.\n",
    "\n",
    "Создайте сравнительную таблицу по результатам проведенных тестов."
   ]
  },
  {
   "cell_type": "markdown",
   "metadata": {},
   "source": [
    "### Импорты"
   ]
  },
  {
   "cell_type": "code",
   "execution_count": null,
   "metadata": {
    "id": "2zDFM0apy8-R"
   },
   "outputs": [],
   "source": [
    "# Подключение модуля для работы с файлами\n",
    "import os\n",
    "import zipfile\n",
    "from itertools import product\n",
    "\n",
    "# Подключение библиотеки для работы с массивами\n",
    "import numpy as np\n",
    "import pandas as pd\n",
    "from IPython.display import display\n",
    "\n",
    "# Подключение утилит для to_categorical\n",
    "from tensorflow.keras import utils\n",
    "\n",
    "# Подключение класса для создания полносвязного слоя\n",
    "from tensorflow.keras.layers import Dense, Input\n",
    "\n",
    "# Подключение класса для создания нейронной сети прямого распространения\n",
    "from tensorflow.keras.models import Sequential\n",
    "\n",
    "# Подключение оптимизатора\n",
    "from tensorflow.keras.optimizers import Adam\n",
    "\n",
    "# Подключение библиотеки для загрузки изображений\n",
    "from tensorflow.keras.preprocessing import image"
   ]
  },
  {
   "cell_type": "markdown",
   "metadata": {},
   "source": [
    "### Распаковка архива"
   ]
  },
  {
   "cell_type": "code",
   "execution_count": 3,
   "metadata": {
    "id": "VCcXAah-y1Uy"
   },
   "outputs": [],
   "source": [
    "# Распаковываем архив hw_light.zip в папку hw_light\n",
    "with zipfile.ZipFile(\"hw_light.zip\", \"r\") as zip_ref:\n",
    "    zip_ref.extractall()"
   ]
  },
  {
   "cell_type": "markdown",
   "metadata": {},
   "source": [
    "### Подготовка данных"
   ]
  },
  {
   "cell_type": "code",
   "execution_count": null,
   "metadata": {
    "colab": {
     "base_uri": "https://localhost:8080/"
    },
    "id": "6Hp0WpKAzEji",
    "outputId": "01fbefd0-714d-4a61-854e-4ffb54ff6271"
   },
   "outputs": [
    {
     "name": "stdout",
     "output_type": "stream",
     "text": [
      "Размер массива x_train (302, 20, 20, 1)\n",
      "Размер массива y_train (302,)\n"
     ]
    }
   ],
   "source": [
    "# Путь к директории с базой\n",
    "base_dir = \"hw_light\"\n",
    "# Создание пустого списка для загрузки изображений обучающей выборки\n",
    "x_train = []\n",
    "# Создание списка для меток классов\n",
    "y_train = []\n",
    "# Задание высоты и ширины загружаемых изображений\n",
    "img_height = 20\n",
    "img_width = 20\n",
    "# Перебор папок в директории базы\n",
    "for patch in os.listdir(base_dir):\n",
    "    # Перебор файлов в папках\n",
    "    for img in os.listdir(base_dir + \"/\" + patch):\n",
    "        # Добавление в список изображений текущей картинки\n",
    "        x_train.append(\n",
    "            image.img_to_array(\n",
    "                image.load_img(\n",
    "                    base_dir + \"/\" + patch + \"/\" + img,\n",
    "                    target_size=(img_height, img_width),\n",
    "                    color_mode=\"grayscale\",\n",
    "                )\n",
    "            )\n",
    "        )\n",
    "        # Добавление в массив меток, соответствующих классам\n",
    "        if patch == \"0\":\n",
    "            y_train.append(0)\n",
    "        elif patch == \"3\":\n",
    "            y_train.append(1)\n",
    "        else:\n",
    "            y_train.append(2)\n",
    "\n",
    "# Преобразование в numpy-массив загруженных изображений и меток классов\n",
    "x_train = np.array(x_train)\n",
    "y_train = np.array(y_train)\n",
    "# Вывод размерностей\n",
    "print(\"Размер массива x_train\", x_train.shape)\n",
    "print(\"Размер массива y_train\", y_train.shape)"
   ]
  },
  {
   "cell_type": "code",
   "execution_count": null,
   "metadata": {},
   "outputs": [],
   "source": [
    "CLASS_COUNT = 3  # Количество классов\n",
    "x_train = x_train.reshape(x_train.shape[0], -1)  # Преобразование в двумерный массив\n",
    "# Преобразование меток классов в формат one-hot encoding\n",
    "y_train = utils.to_categorical(y_train, CLASS_COUNT)\n",
    "neuron_count = [10, 100, 5000]  # Количество нейронов в слое\n",
    "activation_functions = [\"relu\", \"linear\"]  # Функции активации\n",
    "batch_sizes = [10, 100, 1000]  # Размеры батчей"
   ]
  },
  {
   "cell_type": "markdown",
   "metadata": {},
   "source": [
    "### Создание и обучение моделей"
   ]
  },
  {
   "cell_type": "code",
   "execution_count": null,
   "metadata": {
    "id": "b9_LIKE_zYjf"
   },
   "outputs": [
    {
     "name": "stdout",
     "output_type": "stream",
     "text": [
      "Количество нейронов: 10, Функция активации: relu, Размер батча: 10, Точность: 0.34437087178230286\n",
      "Количество нейронов: 10, Функция активации: relu, Размер батча: 100, Точность: 0.42384105920791626\n",
      "Количество нейронов: 10, Функция активации: relu, Размер батча: 1000, Точность: 0.4668874144554138\n",
      "Количество нейронов: 10, Функция активации: linear, Размер батча: 10, Точность: 0.7450330853462219\n",
      "Количество нейронов: 10, Функция активации: linear, Размер батча: 100, Точность: 0.5331125855445862\n",
      "Количество нейронов: 10, Функция активации: linear, Размер батча: 1000, Точность: 0.4271523058414459\n",
      "Количество нейронов: 100, Функция активации: relu, Размер батча: 10, Точность: 0.943708598613739\n",
      "Количество нейронов: 100, Функция активации: relu, Размер батча: 100, Точность: 0.7218543291091919\n",
      "Количество нейронов: 100, Функция активации: relu, Размер батча: 1000, Точность: 0.5960264801979065\n",
      "Количество нейронов: 100, Функция активации: linear, Размер батча: 10, Точность: 0.7615894079208374\n",
      "Количество нейронов: 100, Функция активации: linear, Размер батча: 100, Точность: 0.6854304671287537\n",
      "Количество нейронов: 100, Функция активации: linear, Размер батча: 1000, Точность: 0.692052960395813\n",
      "Количество нейронов: 5000, Функция активации: relu, Размер батча: 10, Точность: 0.9039735198020935\n",
      "Количество нейронов: 5000, Функция активации: relu, Размер батча: 100, Точность: 0.7152317762374878\n",
      "Количество нейронов: 5000, Функция активации: relu, Размер батча: 1000, Точность: 0.5827814340591431\n",
      "Количество нейронов: 5000, Функция активации: linear, Размер батча: 10, Точность: 0.7350993156433105\n",
      "Количество нейронов: 5000, Функция активации: linear, Размер батча: 100, Точность: 0.7119205594062805\n",
      "Количество нейронов: 5000, Функция активации: linear, Размер батча: 1000, Точность: 0.4602648913860321\n"
     ]
    }
   ],
   "source": [
    "results = []  # Список для хранения результатов\n",
    "\n",
    "# Перебор всех комбинаций параметров нейронной сети\n",
    "for neurons, activation, batch_size in product(\n",
    "    neuron_count, activation_functions, batch_sizes\n",
    "):\n",
    "    model = Sequential()  # Создание модели нейронной сети\n",
    "    model.add(Input(shape=(400,)))  # Входной слой с размерностью 400\n",
    "    model.add(Dense(neurons, activation=activation))\n",
    "    model.add(Dense(CLASS_COUNT, activation=\"softmax\"))\n",
    "\n",
    "    # Компиляция модели с заданной функцией потерь, оптимизатором и метрикой\n",
    "    model.compile(\n",
    "        loss=\"categorical_crossentropy\", optimizer=Adam(), metrics=[\"accuracy\"]\n",
    "    )\n",
    "\n",
    "    # Обучение модели на обучающей выборке\n",
    "    history = model.fit(\n",
    "        x_train,\n",
    "        y_train,\n",
    "        epochs=15,\n",
    "        batch_size=batch_size,\n",
    "        verbose=0,\n",
    "    )\n",
    "    accuracy = history.history[\"accuracy\"][-1]  # Получение точности последней эпохи\n",
    "    # Вывод результатов обучения\n",
    "    print(\n",
    "        f\"Количество нейронов: {neurons:4d}, Функция активации: {activation:<6s}, \"\n",
    "        f\"Размер батча: {batch_size:4d}, Точность: {accuracy:.4f}\"\n",
    "    )\n",
    "\n",
    "    # Сохранение результатов в список\n",
    "    results.append((neurons, activation, batch_size, accuracy))\n",
    "\n",
    "# Создание сравнительной таблицы из результатов обучения\n",
    "df = pd.DataFrame(\n",
    "    results,\n",
    "    columns=[\"Количество нейтронов\", \"Функция активации\", \"Размер батча\", \"Точность\"],\n",
    ")"
   ]
  },
  {
   "cell_type": "code",
   "execution_count": null,
   "metadata": {},
   "outputs": [
    {
     "data": {
      "text/html": [
       "<div>\n",
       "<style scoped>\n",
       "    .dataframe tbody tr th:only-of-type {\n",
       "        vertical-align: middle;\n",
       "    }\n",
       "\n",
       "    .dataframe tbody tr th {\n",
       "        vertical-align: top;\n",
       "    }\n",
       "\n",
       "    .dataframe thead th {\n",
       "        text-align: right;\n",
       "    }\n",
       "</style>\n",
       "<table border=\"1\" class=\"dataframe\">\n",
       "  <thead>\n",
       "    <tr style=\"text-align: right;\">\n",
       "      <th></th>\n",
       "      <th>Количество нейтронов</th>\n",
       "      <th>Функция активации</th>\n",
       "      <th>Размер батча</th>\n",
       "      <th>Точность</th>\n",
       "    </tr>\n",
       "  </thead>\n",
       "  <tbody>\n",
       "    <tr>\n",
       "      <th>0</th>\n",
       "      <td>10</td>\n",
       "      <td>relu</td>\n",
       "      <td>10</td>\n",
       "      <td>0.344371</td>\n",
       "    </tr>\n",
       "    <tr>\n",
       "      <th>1</th>\n",
       "      <td>10</td>\n",
       "      <td>relu</td>\n",
       "      <td>100</td>\n",
       "      <td>0.423841</td>\n",
       "    </tr>\n",
       "    <tr>\n",
       "      <th>2</th>\n",
       "      <td>10</td>\n",
       "      <td>relu</td>\n",
       "      <td>1000</td>\n",
       "      <td>0.466887</td>\n",
       "    </tr>\n",
       "    <tr>\n",
       "      <th>3</th>\n",
       "      <td>10</td>\n",
       "      <td>linear</td>\n",
       "      <td>10</td>\n",
       "      <td>0.745033</td>\n",
       "    </tr>\n",
       "    <tr>\n",
       "      <th>4</th>\n",
       "      <td>10</td>\n",
       "      <td>linear</td>\n",
       "      <td>100</td>\n",
       "      <td>0.533113</td>\n",
       "    </tr>\n",
       "    <tr>\n",
       "      <th>5</th>\n",
       "      <td>10</td>\n",
       "      <td>linear</td>\n",
       "      <td>1000</td>\n",
       "      <td>0.427152</td>\n",
       "    </tr>\n",
       "    <tr>\n",
       "      <th>6</th>\n",
       "      <td>100</td>\n",
       "      <td>relu</td>\n",
       "      <td>10</td>\n",
       "      <td>0.943709</td>\n",
       "    </tr>\n",
       "    <tr>\n",
       "      <th>7</th>\n",
       "      <td>100</td>\n",
       "      <td>relu</td>\n",
       "      <td>100</td>\n",
       "      <td>0.721854</td>\n",
       "    </tr>\n",
       "    <tr>\n",
       "      <th>8</th>\n",
       "      <td>100</td>\n",
       "      <td>relu</td>\n",
       "      <td>1000</td>\n",
       "      <td>0.596026</td>\n",
       "    </tr>\n",
       "    <tr>\n",
       "      <th>9</th>\n",
       "      <td>100</td>\n",
       "      <td>linear</td>\n",
       "      <td>10</td>\n",
       "      <td>0.761589</td>\n",
       "    </tr>\n",
       "    <tr>\n",
       "      <th>10</th>\n",
       "      <td>100</td>\n",
       "      <td>linear</td>\n",
       "      <td>100</td>\n",
       "      <td>0.685430</td>\n",
       "    </tr>\n",
       "    <tr>\n",
       "      <th>11</th>\n",
       "      <td>100</td>\n",
       "      <td>linear</td>\n",
       "      <td>1000</td>\n",
       "      <td>0.692053</td>\n",
       "    </tr>\n",
       "    <tr>\n",
       "      <th>12</th>\n",
       "      <td>5000</td>\n",
       "      <td>relu</td>\n",
       "      <td>10</td>\n",
       "      <td>0.903974</td>\n",
       "    </tr>\n",
       "    <tr>\n",
       "      <th>13</th>\n",
       "      <td>5000</td>\n",
       "      <td>relu</td>\n",
       "      <td>100</td>\n",
       "      <td>0.715232</td>\n",
       "    </tr>\n",
       "    <tr>\n",
       "      <th>14</th>\n",
       "      <td>5000</td>\n",
       "      <td>relu</td>\n",
       "      <td>1000</td>\n",
       "      <td>0.582781</td>\n",
       "    </tr>\n",
       "    <tr>\n",
       "      <th>15</th>\n",
       "      <td>5000</td>\n",
       "      <td>linear</td>\n",
       "      <td>10</td>\n",
       "      <td>0.735099</td>\n",
       "    </tr>\n",
       "    <tr>\n",
       "      <th>16</th>\n",
       "      <td>5000</td>\n",
       "      <td>linear</td>\n",
       "      <td>100</td>\n",
       "      <td>0.711921</td>\n",
       "    </tr>\n",
       "    <tr>\n",
       "      <th>17</th>\n",
       "      <td>5000</td>\n",
       "      <td>linear</td>\n",
       "      <td>1000</td>\n",
       "      <td>0.460265</td>\n",
       "    </tr>\n",
       "  </tbody>\n",
       "</table>\n",
       "</div>"
      ],
      "text/plain": [
       "    Количество нейтронов Функция активации  Размер батча  Точность\n",
       "0                     10              relu            10  0.344371\n",
       "1                     10              relu           100  0.423841\n",
       "2                     10              relu          1000  0.466887\n",
       "3                     10            linear            10  0.745033\n",
       "4                     10            linear           100  0.533113\n",
       "5                     10            linear          1000  0.427152\n",
       "6                    100              relu            10  0.943709\n",
       "7                    100              relu           100  0.721854\n",
       "8                    100              relu          1000  0.596026\n",
       "9                    100            linear            10  0.761589\n",
       "10                   100            linear           100  0.685430\n",
       "11                   100            linear          1000  0.692053\n",
       "12                  5000              relu            10  0.903974\n",
       "13                  5000              relu           100  0.715232\n",
       "14                  5000              relu          1000  0.582781\n",
       "15                  5000            linear            10  0.735099\n",
       "16                  5000            linear           100  0.711921\n",
       "17                  5000            linear          1000  0.460265"
      ]
     },
     "execution_count": 6,
     "metadata": {},
     "output_type": "execute_result"
    }
   ],
   "source": [
    "display(df)  # Отображение таблицы"
   ]
  }
 ],
 "metadata": {
  "accelerator": "GPU",
  "colab": {
   "provenance": []
  },
  "kernelspec": {
   "display_name": "global-cKEoLTwX-py3.12",
   "language": "python",
   "name": "python3"
  },
  "language_info": {
   "codemirror_mode": {
    "name": "ipython",
    "version": 3
   },
   "file_extension": ".py",
   "mimetype": "text/x-python",
   "name": "python",
   "nbconvert_exporter": "python",
   "pygments_lexer": "ipython3",
   "version": "3.12.3"
  }
 },
 "nbformat": 4,
 "nbformat_minor": 0
}
