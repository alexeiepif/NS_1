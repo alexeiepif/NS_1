{
 "cells": [
  {
   "cell_type": "markdown",
   "metadata": {
    "id": "d_qXycKuUA51"
   },
   "source": [
    "### Задание"
   ]
  },
  {
   "cell_type": "markdown",
   "metadata": {
    "id": "aUMmCXubUHEb"
   },
   "source": [
    "Самостоятельно напишите нейронную сеть, которая может стать составной частью системы бота для игры в \"Крестики-нолики\". Используя подготовленную базу изображений, создайте и обучите нейронную сеть, распознающую две категории изображений: крестики и нолики. Добейтесь точности распознавания более 95% (accuracy)\n"
   ]
  },
  {
   "cell_type": "code",
   "execution_count": 9,
   "metadata": {
    "id": "LvOL2h3EdC9y"
   },
   "outputs": [],
   "source": [
    "# Подключение класса для создания нейронной сети прямого распространения\n",
    "from tensorflow.keras.models import Sequential\n",
    "# Подключение класса для создания полносвязного слоя\n",
    "from tensorflow.keras.layers import Dense\n",
    "# Подключение оптимизатора\n",
    "from tensorflow.keras.optimizers import Adam\n",
    "# Подключение утилит для to_categorical\n",
    "from tensorflow.keras import utils\n",
    "# Подключение библиотеки для загрузки изображений\n",
    "from tensorflow.keras.preprocessing import image\n",
    "# Подключение библиотеки для работы с массивами\n",
    "import numpy as np\n",
    "# Подключение модуля для работы с файлами\n",
    "import os\n",
    "# Подключение библиотек для отрисовки изображений\n",
    "import matplotlib.pyplot as plt\n",
    "from PIL import Image\n",
    "# Вывод изображения в ноутбуке, а не в консоли или файле\n",
    "%matplotlib inline"
   ]
  },
  {
   "cell_type": "code",
   "execution_count": 10,
   "metadata": {
    "id": "5HAhCsCJ1_hJ"
   },
   "outputs": [],
   "source": [
    "# Распаковываем архив hw_light.zip в папку hw_light\n",
    "# !unzip -q hw_pro.zip"
   ]
  },
  {
   "cell_type": "code",
   "execution_count": 12,
   "metadata": {
    "colab": {
     "base_uri": "https://localhost:8080/"
    },
    "id": "HhHbCet01zmG",
    "outputId": "8972c019-d76d-4237-f35e-19b542dd1bd0"
   },
   "outputs": [
    {
     "name": "stdout",
     "output_type": "stream",
     "text": [
      "Размер массива x_train (102, 20, 20, 1)\n",
      "Размер массива y_train (102,)\n"
     ]
    }
   ],
   "source": [
    "# Путь к директории с базой\n",
    "base_dir = 'hw_pro'\n",
    "# Создание пустого списка для загрузки изображений обучающей выборки\n",
    "x_train = []\n",
    "# Создание списка для меток классов\n",
    "y_train = []\n",
    "# Задание высоты и ширины загружаемых изображений\n",
    "img_height = 20\n",
    "img_width = 20\n",
    "# Перебор папок в директории базы\n",
    "for patch in os.listdir(base_dir):\n",
    "    # Перебор файлов в папках\n",
    "    for img in os.listdir(base_dir + '/' + patch):\n",
    "        # Добавление в список изображений текущей картинки\n",
    "        x_train.append(image.img_to_array(image.load_img(base_dir + '/' + patch + '/' + img,\n",
    "                                                         target_size=(img_height, img_width),\n",
    "                                                         color_mode='grayscale')))\n",
    "        # Добавление в массив меток, соответствующих классам\n",
    "        if patch == '0':\n",
    "            y_train.append(0)\n",
    "        else:\n",
    "            y_train.append(1)\n",
    "# Преобразование в numpy-массив загруженных изображений и меток классов\n",
    "x_train = np.array(x_train)\n",
    "y_train = np.array(y_train)\n",
    "# Вывод размерностей\n",
    "print('Размер массива x_train', x_train.shape)\n",
    "print('Размер массива y_train', y_train.shape)"
   ]
  },
  {
   "cell_type": "code",
   "execution_count": 13,
   "metadata": {},
   "outputs": [],
   "source": [
    "from itertools import product\n",
    "import pandas as pd\n",
    "\n",
    "x_train = x_train.reshape(x_train.shape[0], -1)\n"
   ]
  },
  {
   "cell_type": "code",
   "execution_count": 15,
   "metadata": {
    "id": "TJLh3F3N2DCD"
   },
   "outputs": [
    {
     "name": "stdout",
     "output_type": "stream",
     "text": [
      "Epoch 1/15\n",
      "\u001b[1m4/4\u001b[0m \u001b[32m━━━━━━━━━━━━━━━━━━━━\u001b[0m\u001b[37m\u001b[0m \u001b[1m2s\u001b[0m 339ms/step - accuracy: 0.5631 - loss: 85.3133\n",
      "Epoch 2/15\n",
      "\u001b[1m4/4\u001b[0m \u001b[32m━━━━━━━━━━━━━━━━━━━━\u001b[0m\u001b[37m\u001b[0m \u001b[1m0s\u001b[0m 7ms/step - accuracy: 0.5997 - loss: 38.4159 \n",
      "Epoch 3/15\n",
      "\u001b[1m4/4\u001b[0m \u001b[32m━━━━━━━━━━━━━━━━━━━━\u001b[0m\u001b[37m\u001b[0m \u001b[1m0s\u001b[0m 7ms/step - accuracy: 0.6544 - loss: 11.6838 \n",
      "Epoch 4/15\n",
      "\u001b[1m4/4\u001b[0m \u001b[32m━━━━━━━━━━━━━━━━━━━━\u001b[0m\u001b[37m\u001b[0m \u001b[1m0s\u001b[0m 6ms/step - accuracy: 0.7367 - loss: 8.5279 \n",
      "Epoch 5/15\n",
      "\u001b[1m4/4\u001b[0m \u001b[32m━━━━━━━━━━━━━━━━━━━━\u001b[0m\u001b[37m\u001b[0m \u001b[1m0s\u001b[0m 8ms/step - accuracy: 0.7180 - loss: 7.2338 \n",
      "Epoch 6/15\n",
      "\u001b[1m4/4\u001b[0m \u001b[32m━━━━━━━━━━━━━━━━━━━━\u001b[0m\u001b[37m\u001b[0m \u001b[1m0s\u001b[0m 8ms/step - accuracy: 0.8460 - loss: 3.8735 \n",
      "Epoch 7/15\n",
      "\u001b[1m4/4\u001b[0m \u001b[32m━━━━━━━━━━━━━━━━━━━━\u001b[0m\u001b[37m\u001b[0m \u001b[1m0s\u001b[0m 7ms/step - accuracy: 0.9539 - loss: 0.4328 \n",
      "Epoch 8/15\n",
      "\u001b[1m4/4\u001b[0m \u001b[32m━━━━━━━━━━━━━━━━━━━━\u001b[0m\u001b[37m\u001b[0m \u001b[1m0s\u001b[0m 7ms/step - accuracy: 0.9207 - loss: 2.0924 \n",
      "Epoch 9/15\n",
      "\u001b[1m4/4\u001b[0m \u001b[32m━━━━━━━━━━━━━━━━━━━━\u001b[0m\u001b[37m\u001b[0m \u001b[1m0s\u001b[0m 7ms/step - accuracy: 0.9846 - loss: 0.4079 \n",
      "Epoch 10/15\n",
      "\u001b[1m4/4\u001b[0m \u001b[32m━━━━━━━━━━━━━━━━━━━━\u001b[0m\u001b[37m\u001b[0m \u001b[1m0s\u001b[0m 7ms/step - accuracy: 0.9726 - loss: 0.3589     \n",
      "Epoch 11/15\n",
      "\u001b[1m4/4\u001b[0m \u001b[32m━━━━━━━━━━━━━━━━━━━━\u001b[0m\u001b[37m\u001b[0m \u001b[1m0s\u001b[0m 7ms/step - accuracy: 0.9786 - loss: 0.1040 \n",
      "Epoch 12/15\n",
      "\u001b[1m4/4\u001b[0m \u001b[32m━━━━━━━━━━━━━━━━━━━━\u001b[0m\u001b[37m\u001b[0m \u001b[1m0s\u001b[0m 7ms/step - accuracy: 1.0000 - loss: 1.2919e-09 \n",
      "Epoch 13/15\n",
      "\u001b[1m4/4\u001b[0m \u001b[32m━━━━━━━━━━━━━━━━━━━━\u001b[0m\u001b[37m\u001b[0m \u001b[1m0s\u001b[0m 7ms/step - accuracy: 1.0000 - loss: 1.5872e-06 \n",
      "Epoch 14/15\n",
      "\u001b[1m4/4\u001b[0m \u001b[32m━━━━━━━━━━━━━━━━━━━━\u001b[0m\u001b[37m\u001b[0m \u001b[1m0s\u001b[0m 6ms/step - accuracy: 0.9940 - loss: 0.0380 \n",
      "Epoch 15/15\n",
      "\u001b[1m4/4\u001b[0m \u001b[32m━━━━━━━━━━━━━━━━━━━━\u001b[0m\u001b[37m\u001b[0m \u001b[1m0s\u001b[0m 6ms/step - accuracy: 1.0000 - loss: 1.7252e-07 \n",
      "Финальная точность: 1.0\n"
     ]
    }
   ],
   "source": [
    "model = Sequential()\n",
    "model.add(Dense(400, input_dim=400, activation='relu'))\n",
    "model.add(Dense(200, activation='relu'))\n",
    "model.add(Dense(100, activation='relu'))\n",
    "model.add(Dense(1, activation=\"sigmoid\"))\n",
    "model.compile(loss='binary_crossentropy', optimizer=Adam(learning_rate=0.0005), metrics=['accuracy'])\n",
    "\n",
    "history = model.fit(x_train, y_train, epochs=15, batch_size=32, verbose=1)\n",
    "print(f\"Финальная точность: {history.history['accuracy'][-1]}\")\n",
    "model.save_weights(\"dz_pro.weights.h5\")"
   ]
  }
 ],
 "metadata": {
  "accelerator": "GPU",
  "colab": {
   "provenance": []
  },
  "kernelspec": {
   "display_name": "global-cKEoLTwX-py3.12",
   "language": "python",
   "name": "python3"
  },
  "language_info": {
   "codemirror_mode": {
    "name": "ipython",
    "version": 3
   },
   "file_extension": ".py",
   "mimetype": "text/x-python",
   "name": "python",
   "nbconvert_exporter": "python",
   "pygments_lexer": "ipython3",
   "version": "3.12.3"
  }
 },
 "nbformat": 4,
 "nbformat_minor": 0
}
